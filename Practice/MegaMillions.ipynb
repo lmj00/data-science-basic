{
 "cells": [
  {
   "cell_type": "code",
   "execution_count": 18,
   "metadata": {},
   "outputs": [],
   "source": [
    "import pandas as pd"
   ]
  },
  {
   "cell_type": "code",
   "execution_count": 19,
   "metadata": {},
   "outputs": [],
   "source": [
    "mega = pd.read_csv('../data/mega_millions.csv', index_col = 0)"
   ]
  },
  {
   "cell_type": "code",
   "execution_count": 20,
   "metadata": {},
   "outputs": [
    {
     "data": {
      "text/html": [
       "<div>\n",
       "<style scoped>\n",
       "    .dataframe tbody tr th:only-of-type {\n",
       "        vertical-align: middle;\n",
       "    }\n",
       "\n",
       "    .dataframe tbody tr th {\n",
       "        vertical-align: top;\n",
       "    }\n",
       "\n",
       "    .dataframe thead th {\n",
       "        text-align: right;\n",
       "    }\n",
       "</style>\n",
       "<table border=\"1\" class=\"dataframe\">\n",
       "  <thead>\n",
       "    <tr style=\"text-align: right;\">\n",
       "      <th></th>\n",
       "      <th>Winning Numbers</th>\n",
       "      <th>Mega Ball</th>\n",
       "      <th>Multiplier</th>\n",
       "    </tr>\n",
       "    <tr>\n",
       "      <th>Draw Date</th>\n",
       "      <th></th>\n",
       "      <th></th>\n",
       "      <th></th>\n",
       "    </tr>\n",
       "  </thead>\n",
       "  <tbody>\n",
       "    <tr>\n",
       "      <th>02/15/2019</th>\n",
       "      <td>10 38 40 43 65</td>\n",
       "      <td>12</td>\n",
       "      <td>2.0</td>\n",
       "    </tr>\n",
       "    <tr>\n",
       "      <th>02/12/2019</th>\n",
       "      <td>15 32 39 50 65</td>\n",
       "      <td>7</td>\n",
       "      <td>3.0</td>\n",
       "    </tr>\n",
       "    <tr>\n",
       "      <th>02/08/2019</th>\n",
       "      <td>14 24 31 42 48</td>\n",
       "      <td>13</td>\n",
       "      <td>3.0</td>\n",
       "    </tr>\n",
       "    <tr>\n",
       "      <th>02/05/2019</th>\n",
       "      <td>03 34 36 59 66</td>\n",
       "      <td>7</td>\n",
       "      <td>2.0</td>\n",
       "    </tr>\n",
       "    <tr>\n",
       "      <th>02/01/2019</th>\n",
       "      <td>02 37 48 66 68</td>\n",
       "      <td>11</td>\n",
       "      <td>5.0</td>\n",
       "    </tr>\n",
       "    <tr>\n",
       "      <th>...</th>\n",
       "      <td>...</td>\n",
       "      <td>...</td>\n",
       "      <td>...</td>\n",
       "    </tr>\n",
       "    <tr>\n",
       "      <th>05/31/2002</th>\n",
       "      <td>12 28 45 46 52</td>\n",
       "      <td>47</td>\n",
       "      <td>NaN</td>\n",
       "    </tr>\n",
       "    <tr>\n",
       "      <th>05/28/2002</th>\n",
       "      <td>06 21 22 29 32</td>\n",
       "      <td>24</td>\n",
       "      <td>NaN</td>\n",
       "    </tr>\n",
       "    <tr>\n",
       "      <th>05/24/2002</th>\n",
       "      <td>02 04 32 44 52</td>\n",
       "      <td>36</td>\n",
       "      <td>NaN</td>\n",
       "    </tr>\n",
       "    <tr>\n",
       "      <th>05/21/2002</th>\n",
       "      <td>04 28 39 41 44</td>\n",
       "      <td>9</td>\n",
       "      <td>NaN</td>\n",
       "    </tr>\n",
       "    <tr>\n",
       "      <th>05/17/2002</th>\n",
       "      <td>15 18 25 33 47</td>\n",
       "      <td>30</td>\n",
       "      <td>NaN</td>\n",
       "    </tr>\n",
       "  </tbody>\n",
       "</table>\n",
       "<p>1746 rows × 3 columns</p>\n",
       "</div>"
      ],
      "text/plain": [
       "           Winning Numbers  Mega Ball  Multiplier\n",
       "Draw Date                                        \n",
       "02/15/2019  10 38 40 43 65         12         2.0\n",
       "02/12/2019  15 32 39 50 65          7         3.0\n",
       "02/08/2019  14 24 31 42 48         13         3.0\n",
       "02/05/2019  03 34 36 59 66          7         2.0\n",
       "02/01/2019  02 37 48 66 68         11         5.0\n",
       "...                    ...        ...         ...\n",
       "05/31/2002  12 28 45 46 52         47         NaN\n",
       "05/28/2002  06 21 22 29 32         24         NaN\n",
       "05/24/2002  02 04 32 44 52         36         NaN\n",
       "05/21/2002  04 28 39 41 44          9         NaN\n",
       "05/17/2002  15 18 25 33 47         30         NaN\n",
       "\n",
       "[1746 rows x 3 columns]"
      ]
     },
     "execution_count": 20,
     "metadata": {},
     "output_type": "execute_result"
    }
   ],
   "source": [
    "mega"
   ]
  }
 ],
 "metadata": {
  "kernelspec": {
   "display_name": "Python 3",
   "language": "python",
   "name": "python3"
  },
  "language_info": {
   "codemirror_mode": {
    "name": "ipython",
    "version": 3
   },
   "file_extension": ".py",
   "mimetype": "text/x-python",
   "name": "python",
   "nbconvert_exporter": "python",
   "pygments_lexer": "ipython3",
   "version": "3.8.5"
  }
 },
 "nbformat": 4,
 "nbformat_minor": 4
}
